{
  "nbformat": 4,
  "nbformat_minor": 0,
  "metadata": {
    "colab": {
      "provenance": [],
      "authorship_tag": "ABX9TyNtWqciWuQ2C7UEmuvWCZTx",
      "include_colab_link": true
    },
    "kernelspec": {
      "name": "python3",
      "display_name": "Python 3"
    },
    "language_info": {
      "name": "python"
    }
  },
  "cells": [
    {
      "cell_type": "markdown",
      "metadata": {
        "id": "view-in-github",
        "colab_type": "text"
      },
      "source": [
        "<a href=\"https://colab.research.google.com/github/AadityaAdh/tf_RaggedTensors/blob/main/Ragged_Tensors.ipynb\" target=\"_parent\"><img src=\"https://colab.research.google.com/assets/colab-badge.svg\" alt=\"Open In Colab\"/></a>"
      ]
    },
    {
      "cell_type": "code",
      "execution_count": 1,
      "metadata": {
        "id": "z5bwTlL4RX39"
      },
      "outputs": [],
      "source": [
        "import tensorflow as tf\n",
        "import numpy as np"
      ]
    },
    {
      "cell_type": "markdown",
      "source": [
        "#tensorflow types\n"
      ],
      "metadata": {
        "id": "14j2gcBYRmFD"
      }
    },
    {
      "cell_type": "markdown",
      "source": [
        "#Ragged tensors\n",
        "\n",
        "when a matrix is non rectangular\n",
        "\n",
        "vanya yeuta rowma dherai element aarko ma thorai\n",
        "\n",
        "tf.constant lae jailae ni rectangular tensor nai magxa\n",
        "\n",
        "so use tf.ragged.constant(your tensor)"
      ],
      "metadata": {
        "id": "KKsBjKKWRqXP"
      }
    },
    {
      "cell_type": "code",
      "source": [
        "ragged_matrix=np.array([[1,2,3,4],\n",
        "                        [5],\n",
        "                        [6,7,8,9,10,11,12,13,14]])\n",
        "ragged_matrix"
      ],
      "metadata": {
        "colab": {
          "base_uri": "https://localhost:8080/"
        },
        "id": "hLEKnwTORj9t",
        "outputId": "8376d518-8955-4038-c208-a37179afe112"
      },
      "execution_count": null,
      "outputs": [
        {
          "output_type": "stream",
          "name": "stderr",
          "text": [
            "<ipython-input-4-5e8d73359bd8>:1: VisibleDeprecationWarning: Creating an ndarray from ragged nested sequences (which is a list-or-tuple of lists-or-tuples-or ndarrays with different lengths or shapes) is deprecated. If you meant to do this, you must specify 'dtype=object' when creating the ndarray.\n",
            "  ragged_matrix=np.array([[1,2,3,4],\n"
          ]
        },
        {
          "output_type": "execute_result",
          "data": {
            "text/plain": [
              "array([list([1, 2, 3, 4]), list([5]),\n",
              "       list([6, 7, 8, 9, 10, 11, 12, 13, 14])], dtype=object)"
            ]
          },
          "metadata": {},
          "execution_count": 4
        }
      ]
    },
    {
      "cell_type": "code",
      "source": [
        "#tf.constant(ragged_matrix)\n",
        "#so error here\n"
      ],
      "metadata": {
        "id": "4URvhhF5TDtq"
      },
      "execution_count": 2,
      "outputs": []
    },
    {
      "cell_type": "code",
      "source": [
        "tf.ragged.constant(ragged_matrix)"
      ],
      "metadata": {
        "colab": {
          "base_uri": "https://localhost:8080/"
        },
        "id": "Mv971yQ1TRwo",
        "outputId": "384bf052-a922-4dba-936d-4c151c243f77"
      },
      "execution_count": null,
      "outputs": [
        {
          "output_type": "execute_result",
          "data": {
            "text/plain": [
              "<tf.RaggedTensor [[1, 2, 3, 4], [5], [6, 7, 8, 9, 10, 11, 12, 13, 14]]>"
            ]
          },
          "metadata": {},
          "execution_count": 7
        }
      ]
    },
    {
      "cell_type": "code",
      "source": [
        "#aaba shape garda columns ma none aauxa\n",
        "#as no of columns is differernt\n",
        "tf.ragged.constant(ragged_matrix).shape"
      ],
      "metadata": {
        "colab": {
          "base_uri": "https://localhost:8080/"
        },
        "id": "qcIj5EJ9Td18",
        "outputId": "11a53c64-ddcb-4e32-c34a-d756cc6bd0ec"
      },
      "execution_count": null,
      "outputs": [
        {
          "output_type": "execute_result",
          "data": {
            "text/plain": [
              "TensorShape([3, None])"
            ]
          },
          "metadata": {},
          "execution_count": 9
        }
      ]
    },
    {
      "cell_type": "markdown",
      "source": [
        "#Masking\n",
        "\n",
        "yedi kunai element lai nikalnu paryo vanae masking garinxa\n",
        "\n",
        "tf.ragged.boolean_mask\n",
        "\n",
        "\n",
        "Applies a boolean mask to data without flattening the mask dimensions.\n",
        "\n",
        "tf.ragged.boolean_mask(\n",
        "    data, mask, name=None\n",
        ")\n",
        "\n",
        "mask vanya tei pattern ma true false lekhiyae ko\n",
        "\n",
        "[[T,F,T],[T,T,T]]\n",
        "yesto garae ko\n",
        "\n",
        "\n",
        "\n"
      ],
      "metadata": {
        "id": "ToPld19SUOZy"
      }
    },
    {
      "cell_type": "code",
      "source": [
        "tf.ragged.boolean_mask(  # Mask a 2D RaggedTensor.\n",
        "    tf.ragged.constant([[1, 2, 3], [4], [5, 6]]),\n",
        "    tf.ragged.constant([[False, False, True], [False], [True, True]]))\n"
      ],
      "metadata": {
        "colab": {
          "base_uri": "https://localhost:8080/"
        },
        "id": "wtaxB0_FTm6O",
        "outputId": "db5ad596-24b0-49e2-ae39-4474320c827c"
      },
      "execution_count": null,
      "outputs": [
        {
          "output_type": "execute_result",
          "data": {
            "text/plain": [
              "<tf.RaggedTensor [[3], [], [5, 6]]>"
            ]
          },
          "metadata": {},
          "execution_count": 11
        }
      ]
    },
    {
      "cell_type": "markdown",
      "source": [
        "yestai gari yedi kunai channel hataunu paryo or channel vitra ko kei hataunu paryo vanae kaam lagxa"
      ],
      "metadata": {
        "id": "YW85At0UVOpc"
      }
    },
    {
      "cell_type": "code",
      "source": [
        "#lets delete a channel\n",
        "\n",
        "t1_in3d=tf.constant(np.arange(1,28),shape=[3,3,3])\n",
        "t1_in3d"
      ],
      "metadata": {
        "colab": {
          "base_uri": "https://localhost:8080/"
        },
        "id": "UyxOVjeRVHB_",
        "outputId": "4e6ddcf3-f385-4091-8eb4-35dfbcabd2e1"
      },
      "execution_count": null,
      "outputs": [
        {
          "output_type": "execute_result",
          "data": {
            "text/plain": [
              "<tf.Tensor: shape=(3, 3, 3), dtype=int64, numpy=\n",
              "array([[[ 1,  2,  3],\n",
              "        [ 4,  5,  6],\n",
              "        [ 7,  8,  9]],\n",
              "\n",
              "       [[10, 11, 12],\n",
              "        [13, 14, 15],\n",
              "        [16, 17, 18]],\n",
              "\n",
              "       [[19, 20, 21],\n",
              "        [22, 23, 24],\n",
              "        [25, 26, 27]]])>"
            ]
          },
          "metadata": {},
          "execution_count": 12
        }
      ]
    },
    {
      "cell_type": "code",
      "source": [
        "#lets delete the first channel\n",
        "tf.ragged.boolean_mask(t1_in3d,tf.ragged.constant([False, True, True]))"
      ],
      "metadata": {
        "colab": {
          "base_uri": "https://localhost:8080/"
        },
        "id": "Hf2OTzSSVywD",
        "outputId": "489749b7-1dd2-4afa-ec84-8f1a797cf551"
      },
      "execution_count": null,
      "outputs": [
        {
          "output_type": "execute_result",
          "data": {
            "text/plain": [
              "<tf.Tensor: shape=(2, 3, 3), dtype=int64, numpy=\n",
              "array([[[10, 11, 12],\n",
              "        [13, 14, 15],\n",
              "        [16, 17, 18]],\n",
              "\n",
              "       [[19, 20, 21],\n",
              "        [22, 23, 24],\n",
              "        [25, 26, 27]]])>"
            ]
          },
          "metadata": {},
          "execution_count": 13
        }
      ]
    },
    {
      "cell_type": "markdown",
      "source": [
        "#creating new matrix from a row\n",
        "\n",
        "tf.RaggedTensor.from_row_lengths(\n",
        "\n",
        "\n",
        "    values, row_lengths, name=None, validate=True\n",
        ")\n",
        "\n",
        "note:yaa raggedtensor xa not only ragged like up\n",
        "\n",
        "\n",
        "values vanya your any row\n",
        "row length vanya array:[4,3,1,0]\n",
        "\n",
        "\n",
        "first 4 elmeents ko yeuta row\n",
        "\n",
        "\n",
        "then next 3 ko yeuta row.... and so on\n",
        "\n",
        "note:output will be a array or matrix which is non rectangular\n",
        "so you can only use with ragged tensor"
      ],
      "metadata": {
        "id": "ShtKiwUglLva"
      }
    },
    {
      "cell_type": "code",
      "source": [
        "print(tf.RaggedTensor.from_row_lengths(\n",
        "    values=[3, 1, 4, 1, 5, 9, 2, 6],\n",
        "    row_lengths=[4, 0, 3, 1, 0]))\n"
      ],
      "metadata": {
        "colab": {
          "base_uri": "https://localhost:8080/"
        },
        "id": "7CohEDRWWU50",
        "outputId": "1c04c84b-c35d-41f9-d1ff-251a13434d0b"
      },
      "execution_count": null,
      "outputs": [
        {
          "output_type": "stream",
          "name": "stdout",
          "text": [
            "<tf.RaggedTensor [[3, 1, 4, 1], [], [5, 9, 2], [6], []]>\n"
          ]
        }
      ]
    },
    {
      "cell_type": "code",
      "source": [],
      "metadata": {
        "id": "v1dGYyAVmkUN"
      },
      "execution_count": null,
      "outputs": []
    }
  ]
}